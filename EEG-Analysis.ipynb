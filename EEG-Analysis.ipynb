{
 "cells": [
  {
   "cell_type": "markdown",
   "id": "dd5d79c8-5564-453f-969f-aa112152afe9",
   "metadata": {},
   "source": [
    "# EEG statistics"
   ]
  },
  {
   "cell_type": "code",
   "execution_count": 1,
   "id": "6e700f1a-687c-4cfd-a664-05a1740026d2",
   "metadata": {
    "execution": {
     "iopub.execute_input": "2023-06-05T06:51:11.292118Z",
     "iopub.status.busy": "2023-06-05T06:51:11.291362Z",
     "iopub.status.idle": "2023-06-05T06:51:30.534288Z",
     "shell.execute_reply": "2023-06-05T06:51:30.533501Z",
     "shell.execute_reply.started": "2023-06-05T06:51:11.292069Z"
    },
    "tags": []
   },
   "outputs": [
    {
     "name": "stdout",
     "output_type": "stream",
     "text": [
      "Collecting mne\n",
      "  Downloading mne-1.4.0-py3-none-any.whl (7.7 MB)\n",
      "\u001b[2K     \u001b[90m━━━━━━━━━━━━━━━━━━━━━━━━━━━━━━━━━━━━━━━━\u001b[0m \u001b[32m7.7/7.7 MB\u001b[0m \u001b[31m35.4 MB/s\u001b[0m eta \u001b[36m0:00:00\u001b[0m00:01\u001b[0m00:01\u001b[0m\n",
      "\u001b[?25hRequirement already satisfied: matplotlib in /opt/conda/lib/python3.10/site-packages (from mne) (3.7.1)\n",
      "Requirement already satisfied: numpy>=1.15.4 in /opt/conda/lib/python3.10/site-packages (from mne) (1.24.3)\n",
      "Collecting pooch>=1.5\n",
      "  Downloading pooch-1.7.0-py3-none-any.whl (60 kB)\n",
      "\u001b[2K     \u001b[90m━━━━━━━━━━━━━━━━━━━━━━━━━━━━━━━━━━━━━━━━\u001b[0m \u001b[32m60.9/60.9 kB\u001b[0m \u001b[31m1.0 MB/s\u001b[0m eta \u001b[36m0:00:00\u001b[0mta \u001b[36m0:00:01\u001b[0m\n",
      "\u001b[?25hRequirement already satisfied: packaging in /opt/conda/lib/python3.10/site-packages (from mne) (23.1)\n",
      "Requirement already satisfied: tqdm in /opt/conda/lib/python3.10/site-packages (from mne) (4.65.0)\n",
      "Collecting scipy>=1.6.3\n",
      "  Downloading scipy-1.10.1-cp310-cp310-manylinux_2_17_x86_64.manylinux2014_x86_64.whl (34.4 MB)\n",
      "\u001b[2K     \u001b[90m━━━━━━━━━━━━━━━━━━━━━━━━━━━━━━━━━━━━━━━━\u001b[0m \u001b[32m34.4/34.4 MB\u001b[0m \u001b[31m29.7 MB/s\u001b[0m eta \u001b[36m0:00:00\u001b[0m00:01\u001b[0m00:01\u001b[0m\n",
      "\u001b[?25hRequirement already satisfied: jinja2 in /opt/conda/lib/python3.10/site-packages (from mne) (3.1.2)\n",
      "Requirement already satisfied: decorator in /opt/conda/lib/python3.10/site-packages (from mne) (5.1.1)\n",
      "Requirement already satisfied: requests>=2.19.0 in /opt/conda/lib/python3.10/site-packages (from pooch>=1.5->mne) (2.28.2)\n",
      "Requirement already satisfied: platformdirs>=2.5.0 in /opt/conda/lib/python3.10/site-packages (from pooch>=1.5->mne) (3.5.1)\n",
      "Requirement already satisfied: MarkupSafe>=2.0 in /opt/conda/lib/python3.10/site-packages (from jinja2->mne) (2.1.2)\n",
      "Requirement already satisfied: cycler>=0.10 in /opt/conda/lib/python3.10/site-packages (from matplotlib->mne) (0.11.0)\n",
      "Requirement already satisfied: kiwisolver>=1.0.1 in /opt/conda/lib/python3.10/site-packages (from matplotlib->mne) (1.4.4)\n",
      "Requirement already satisfied: fonttools>=4.22.0 in /opt/conda/lib/python3.10/site-packages (from matplotlib->mne) (4.39.4)\n",
      "Requirement already satisfied: pyparsing>=2.3.1 in /opt/conda/lib/python3.10/site-packages (from matplotlib->mne) (3.0.9)\n",
      "Requirement already satisfied: python-dateutil>=2.7 in /opt/conda/lib/python3.10/site-packages (from matplotlib->mne) (2.8.2)\n",
      "Requirement already satisfied: pillow>=6.2.0 in /opt/conda/lib/python3.10/site-packages (from matplotlib->mne) (9.5.0)\n",
      "Requirement already satisfied: contourpy>=1.0.1 in /opt/conda/lib/python3.10/site-packages (from matplotlib->mne) (1.0.7)\n",
      "Requirement already satisfied: six>=1.5 in /opt/conda/lib/python3.10/site-packages (from python-dateutil>=2.7->matplotlib->mne) (1.16.0)\n",
      "Requirement already satisfied: certifi>=2017.4.17 in /opt/conda/lib/python3.10/site-packages (from requests>=2.19.0->pooch>=1.5->mne) (2023.5.7)\n",
      "Requirement already satisfied: idna<4,>=2.5 in /opt/conda/lib/python3.10/site-packages (from requests>=2.19.0->pooch>=1.5->mne) (3.4)\n",
      "Requirement already satisfied: urllib3<1.27,>=1.21.1 in /opt/conda/lib/python3.10/site-packages (from requests>=2.19.0->pooch>=1.5->mne) (1.26.15)\n",
      "Requirement already satisfied: charset-normalizer<4,>=2 in /opt/conda/lib/python3.10/site-packages (from requests>=2.19.0->pooch>=1.5->mne) (3.1.0)\n",
      "Installing collected packages: scipy, pooch, mne\n",
      "Successfully installed mne-1.4.0 pooch-1.7.0 scipy-1.10.1\n"
     ]
    }
   ],
   "source": [
    "# Importing modules\n",
    "import os\n",
    "import pip\n",
    "!python -m pip install mne\n",
    "os.system('python -m pip install scikit-learn')\n",
    "import numpy as np\n",
    "import pandas as pd\n",
    "import mne\n",
    "import scipy\n",
    "from scipy import stats as st\n",
    "import statistics as stats"
   ]
  },
  {
   "cell_type": "code",
   "execution_count": 2,
   "id": "2cd42f21-0f73-49d0-9690-cd6de48879fe",
   "metadata": {
    "execution": {
     "iopub.execute_input": "2023-06-05T06:51:30.542829Z",
     "iopub.status.busy": "2023-06-05T06:51:30.542471Z",
     "iopub.status.idle": "2023-06-05T06:51:31.032694Z",
     "shell.execute_reply": "2023-06-05T06:51:31.032002Z",
     "shell.execute_reply.started": "2023-06-05T06:51:30.542796Z"
    },
    "tags": []
   },
   "outputs": [
    {
     "name": "stdout",
     "output_type": "stream",
     "text": [
      "Reading /work/JustinaRazanauskaite#2891/faceword-epo.fif ...\n",
      "    Found the data of interest:\n",
      "        t =    -100.00 ...     700.00 ms\n",
      "        0 CTF compensation matrices available\n",
      "Not setting metadata\n",
      "424 matching events found\n",
      "No baseline correction applied\n",
      "0 projection items activated\n"
     ]
    }
   ],
   "source": [
    "# Loading the epochs object:\n",
    "\n",
    "epochs = mne.read_epochs('faceword-epo.fif')\n",
    "\n",
    "#print(epochs)\n",
    "word_pos_epochs = epochs['Image/wPos']\n",
    "word_neg_epochs = epochs['Image/wNeg']\n",
    "word_neu_epochs = epochs['Image/wNeu']"
   ]
  },
  {
   "cell_type": "markdown",
   "id": "2ff6da97-7846-437c-bd7b-8bf265ffea42",
   "metadata": {},
   "source": [
    "## ANOVA to investigate the difference in N170 when:\n",
    "####  - Positive word is presented before the positive imgage;\n",
    "####  - Negative word is presented before the negative imgage;\n",
    "####  - Neutral word is presented before the positive/negative imgage."
   ]
  },
  {
   "cell_type": "code",
   "execution_count": 5,
   "id": "4d4d7f70-7fc2-49e6-9fee-ebe4153aa74c",
   "metadata": {
    "execution": {
     "iopub.execute_input": "2023-06-05T06:51:31.365781Z",
     "iopub.status.busy": "2023-06-05T06:51:31.365238Z",
     "iopub.status.idle": "2023-06-05T06:51:31.377747Z",
     "shell.execute_reply": "2023-06-05T06:51:31.377045Z",
     "shell.execute_reply.started": "2023-06-05T06:51:31.365728Z"
    },
    "tags": []
   },
   "outputs": [
    {
     "name": "stdout",
     "output_type": "stream",
     "text": [
      "(57, 4, 80)\n",
      "(53, 4, 80)\n",
      "(53, 4, 80)\n"
     ]
    }
   ],
   "source": [
    "# Extracting the numerical values of the signal from corresponding channels:\n",
    "\n",
    "word_pos_data = word_pos_epochs.get_data(picks=['P3', 'P4', 'P7', 'P8'], tmin=.14, tmax=.22)\n",
    "#print(word_pos_data.shape)\n",
    "\n",
    "word_neg_data = word_neg_epochs.get_data(picks=['P3', 'P4', 'P7', 'P8'], tmin=.14, tmax=.22)\n",
    "#print(word_neg_data.shape)\n",
    "\n",
    "word_neu_data = word_neu_epochs.get_data(picks=['P3', 'P4', 'P7', 'P8'], tmin=.14, tmax=.22)\n",
    "#print(word_neu_data.shape)"
   ]
  },
  {
   "cell_type": "code",
   "execution_count": 7,
   "id": "97838f6d-036c-49a3-bcb0-f23b37c8f554",
   "metadata": {
    "execution": {
     "iopub.execute_input": "2023-06-05T06:51:39.754128Z",
     "iopub.status.busy": "2023-06-05T06:51:39.753735Z",
     "iopub.status.idle": "2023-06-05T06:51:39.759361Z",
     "shell.execute_reply": "2023-06-05T06:51:39.758772Z",
     "shell.execute_reply.started": "2023-06-05T06:51:39.754104Z"
    },
    "tags": []
   },
   "outputs": [
    {
     "name": "stdout",
     "output_type": "stream",
     "text": [
      "(57, 4)\n",
      "(57,)\n"
     ]
    }
   ],
   "source": [
    "# Averaging over the data\n",
    "\n",
    "# Positive words before the positive images\n",
    "word_pos_mean = np.mean(word_pos_data, axis=2) \n",
    "word_pos_mean = np.mean(word_pos_mean, axis=1) \n",
    "\n",
    "\n",
    "# Negative words before the negative images\n",
    "word_neg_mean = np.mean(word_neg_data, axis=2)\n",
    "word_neg_mean = np.mean(word_neg_mean, axis=1)\n",
    "\n",
    "\n",
    "#Neutral words before the images\n",
    "word_neu_mean = np.mean(word_neu_data, axis=2)\n",
    "word_neu_mean = np.mean(word_neu_mean, axis=1)"
   ]
  },
  {
   "cell_type": "code",
   "execution_count": 8,
   "id": "38c48047-6987-4d85-94b0-25c4f66abda4",
   "metadata": {
    "execution": {
     "iopub.execute_input": "2023-06-05T06:51:42.242707Z",
     "iopub.status.busy": "2023-06-05T06:51:42.242300Z",
     "iopub.status.idle": "2023-06-05T06:51:42.247940Z",
     "shell.execute_reply": "2023-06-05T06:51:42.247272Z",
     "shell.execute_reply.started": "2023-06-05T06:51:42.242681Z"
    },
    "tags": []
   },
   "outputs": [
    {
     "data": {
      "text/plain": [
       "F_onewayResult(statistic=0.5970484238083262, pvalue=0.5516554958309265)"
      ]
     },
     "execution_count": 8,
     "metadata": {},
     "output_type": "execute_result"
    }
   ],
   "source": [
    "# Performing a one-way ANOVA between the 3 means.\n",
    "\n",
    "st.f_oneway(word_pos_mean, word_neg_mean, word_neu_mean)"
   ]
  },
  {
   "cell_type": "markdown",
   "id": "c5293ec7-eed7-431c-989d-6fe5dbbc8549",
   "metadata": {},
   "source": [
    "## A t-test to investigate the difference in the N170 between the left and right hemispheres."
   ]
  },
  {
   "cell_type": "code",
   "execution_count": 14,
   "id": "d30585aa-8463-4040-8533-4b43074aae2c",
   "metadata": {
    "execution": {
     "iopub.execute_input": "2023-06-05T08:18:40.760784Z",
     "iopub.status.busy": "2023-06-05T08:18:40.760314Z",
     "iopub.status.idle": "2023-06-05T08:18:40.769904Z",
     "shell.execute_reply": "2023-06-05T08:18:40.769114Z",
     "shell.execute_reply.started": "2023-06-05T08:18:40.760731Z"
    },
    "tags": []
   },
   "outputs": [
    {
     "name": "stdout",
     "output_type": "stream",
     "text": [
      "(53, 2, 80)\n",
      "(53, 2, 80)\n"
     ]
    }
   ],
   "source": [
    "# Extracting the numerical values of the signal from corresponding channels:\n",
    "\n",
    "left = word_neu_epochs.get_data(picks=['P3','P7'], tmin=.14, tmax=.22)\n",
    "#print(left.shape)\n",
    "\n",
    "right = word_neu_epochs.get_data(picks=['P4','P8'], tmin=.14, tmax=.22)\n",
    "#print(right.shape)"
   ]
  },
  {
   "cell_type": "code",
   "execution_count": 12,
   "id": "50847999-4a70-4c16-a408-6ec6d9848c74",
   "metadata": {
    "execution": {
     "iopub.execute_input": "2023-06-05T07:22:28.718455Z",
     "iopub.status.busy": "2023-06-05T07:22:28.717895Z",
     "iopub.status.idle": "2023-06-05T07:22:28.726094Z",
     "shell.execute_reply": "2023-06-05T07:22:28.724986Z",
     "shell.execute_reply.started": "2023-06-05T07:22:28.718416Z"
    },
    "tags": []
   },
   "outputs": [
    {
     "name": "stdout",
     "output_type": "stream",
     "text": [
      "(53, 2)\n",
      "(53,)\n"
     ]
    }
   ],
   "source": [
    "# Averaging over the data:\n",
    "\n",
    "left_mean = np.mean(left, axis=2)\n",
    "left_mean = np.mean(left_mean, axis=1)\n",
    "#print(left_mean.shape)\n",
    "\n",
    "right_mean = np.mean(right, axis=2)\n",
    "right_mean = np.mean(right_mean, axis=1)"
   ]
  },
  {
   "cell_type": "code",
   "execution_count": 13,
   "id": "b0cd9561-d896-4fb2-8542-23aa2a1e7c30",
   "metadata": {
    "execution": {
     "iopub.execute_input": "2023-06-05T07:23:06.297490Z",
     "iopub.status.busy": "2023-06-05T07:23:06.296852Z",
     "iopub.status.idle": "2023-06-05T07:23:06.311271Z",
     "shell.execute_reply": "2023-06-05T07:23:06.309524Z",
     "shell.execute_reply.started": "2023-06-05T07:23:06.297443Z"
    },
    "tags": []
   },
   "outputs": [
    {
     "data": {
      "text/plain": [
       "Ttest_indResult(statistic=-1.6433537560261358, pvalue=0.1033297591198939)"
      ]
     },
     "execution_count": 13,
     "metadata": {},
     "output_type": "execute_result"
    }
   ],
   "source": [
    "# Performing a t-test:\n",
    "\n",
    "st.ttest_ind(a=left_mean, b=right_mean)"
   ]
  }
 ],
 "metadata": {
  "kernelspec": {
   "display_name": "Python 3 ",
   "language": "python",
   "name": "python3"
  },
  "language_info": {
   "codemirror_mode": {
    "name": "ipython",
    "version": 3
   },
   "file_extension": ".py",
   "mimetype": "text/x-python",
   "name": "python",
   "nbconvert_exporter": "python",
   "pygments_lexer": "ipython3",
   "version": "3.10.10"
  }
 },
 "nbformat": 4,
 "nbformat_minor": 5
}
